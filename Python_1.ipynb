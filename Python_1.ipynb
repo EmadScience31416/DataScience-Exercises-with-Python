{
 "cells": [
  {
   "cell_type": "markdown",
   "metadata": {},
   "source": [
    "# Python 1"
   ]
  },
  {
   "cell_type": "markdown",
   "metadata": {},
   "source": [
    "**Videos Introducctorios**\n",
    "- Primeros pasos con python y VSC: https://www.youtube.com/watch?v=-F2-CMWhmXw&list=PLJ7sTTLrIA6m2bGromPVNC52slexHVJfe\n",
    "- Jupyter Notebook en VSC (Solo mirarlo para entender qué es): https://www.youtube.com/watch?v=ZYat1is07VI&t=106s "
   ]
  },
  {
   "cell_type": "markdown",
   "metadata": {},
   "source": [
    "## 1. Variables y Tipos de Datos"
   ]
  },
  {
   "cell_type": "markdown",
   "metadata": {},
   "source": [
    "En Python, las variables son espacios de almacenamiento para datos que pueden cambiar durante la ejecución del programa. Los tipos de datos incluyen enteros (int), flotantes (float), cadenas de texto (str) y booleanos (bool). La asignación de variables se hace con el operador =."
   ]
  },
  {
   "cell_type": "markdown",
   "metadata": {},
   "source": [
    "**Video de Referencia**\n",
    "- https://www.youtube.com/watch?v=J_8Tno-Zwwo"
   ]
  },
  {
   "cell_type": "markdown",
   "metadata": {},
   "source": [
    "### Ejemplos Resueltos:"
   ]
  },
  {
   "cell_type": "code",
   "execution_count": 1,
   "metadata": {},
   "outputs": [
    {
     "name": "stdout",
     "output_type": "stream",
     "text": [
      "El valor de x es: 10\n"
     ]
    }
   ],
   "source": [
    "# 1. Asignar y mostrar el valor de una variable:\n",
    "x = 10\n",
    "print(\"El valor de x es:\", x)"
   ]
  },
  {
   "cell_type": "code",
   "execution_count": 2,
   "metadata": {},
   "outputs": [
    {
     "name": "stdout",
     "output_type": "stream",
     "text": [
      "El valor de y como entero es: 123\n"
     ]
    }
   ],
   "source": [
    "# 2. Cambiar el tipo de una variable:\n",
    "y = \"123\"\n",
    "y = int(y)\n",
    "print(\"El valor de y como entero es:\", y)"
   ]
  },
  {
   "cell_type": "markdown",
   "metadata": {},
   "source": [
    "### Ejercicios Propuestos:"
   ]
  },
  {
   "cell_type": "code",
   "execution_count": 4,
   "metadata": {},
   "outputs": [],
   "source": [
    "# 1. Define una variable nombre y asígnale tu nombre. Imprime un saludo con esa variable."
   ]
  },
  {
   "cell_type": "code",
   "execution_count": 5,
   "metadata": {},
   "outputs": [],
   "source": [
    "# 2. Declara una variable edad, asigna tu edad y multiplica por 2. Imprime el resultado."
   ]
  },
  {
   "cell_type": "code",
   "execution_count": 6,
   "metadata": {},
   "outputs": [],
   "source": [
    "# 3. Crea una variable frase que contenga la frase \"Aprender Python es divertido\" e imprímela."
   ]
  },
  {
   "cell_type": "code",
   "execution_count": 7,
   "metadata": {},
   "outputs": [],
   "source": [
    "# 4. Cambia el tipo de una variable de float a string y muéstralo."
   ]
  },
  {
   "cell_type": "code",
   "execution_count": 8,
   "metadata": {},
   "outputs": [],
   "source": [
    "# 5. Asigna un valor booleano a una variable y muestra su tipo."
   ]
  },
  {
   "cell_type": "markdown",
   "metadata": {},
   "source": [
    "## 2. Operadores Aritméticos y de Comparación"
   ]
  },
  {
   "cell_type": "markdown",
   "metadata": {},
   "source": [
    "Los operadores aritméticos incluyen +, -, *, /, // (división entera), % (módulo) y ** (exponente). Los operadores de comparación, como ==, !=, <, >, <=, >=, se usan para comparar valores y devuelven un resultado booleano."
   ]
  },
  {
   "cell_type": "markdown",
   "metadata": {},
   "source": [
    "**Video de Referencia**\n",
    "- https://www.youtube.com/watch?v=yJjuAVXf910&list=PLJ7sTTLrIA6m2bGromPVNC52slexHVJfe&index=2"
   ]
  },
  {
   "cell_type": "markdown",
   "metadata": {},
   "source": [
    "### Ejemplos Resueltos:"
   ]
  },
  {
   "cell_type": "code",
   "execution_count": 12,
   "metadata": {},
   "outputs": [
    {
     "name": "stdout",
     "output_type": "stream",
     "text": [
      "El resultado es: 11\n"
     ]
    }
   ],
   "source": [
    "# 1. Suma y multiplicación de números:\n",
    "a = 5\n",
    "b = 3\n",
    "resultado = a + b * 2\n",
    "print(\"El resultado es:\", resultado)"
   ]
  },
  {
   "cell_type": "code",
   "execution_count": 13,
   "metadata": {},
   "outputs": [
    {
     "name": "stdout",
     "output_type": "stream",
     "text": [
      "División: 3.3333333333333335\n",
      "Módulo: 1\n"
     ]
    }
   ],
   "source": [
    "# 2. División y módulo:\n",
    "num = 10\n",
    "print(\"División:\", num / 3)\n",
    "print(\"Módulo:\", num % 3)"
   ]
  },
  {
   "cell_type": "code",
   "execution_count": 73,
   "metadata": {},
   "outputs": [
    {
     "name": "stdout",
     "output_type": "stream",
     "text": [
      "¿Es x mayor que 10? True\n"
     ]
    }
   ],
   "source": [
    "# 3. Ejercicio de comparación:\n",
    "x = 15\n",
    "es_mayor = x > 10  # Resultado: True\n",
    "print(\"¿Es x mayor que 10?\", es_mayor)"
   ]
  },
  {
   "cell_type": "markdown",
   "metadata": {},
   "source": [
    "### Ejercicios Propuestos:"
   ]
  },
  {
   "cell_type": "code",
   "execution_count": 14,
   "metadata": {},
   "outputs": [],
   "source": [
    "# 1. Define una variable nombre y asígnale tu nombre. Imprime un saludo con esa variable."
   ]
  },
  {
   "cell_type": "code",
   "execution_count": 15,
   "metadata": {},
   "outputs": [],
   "source": [
    "# 2. Declara una variable edad, asigna tu edad y multiplica por 2. Imprime el resultado."
   ]
  },
  {
   "cell_type": "code",
   "execution_count": 16,
   "metadata": {},
   "outputs": [],
   "source": [
    "# 3. Crea una variable frase que contenga la frase \"Aprender Python es divertido\" e imprímela."
   ]
  },
  {
   "cell_type": "code",
   "execution_count": 17,
   "metadata": {},
   "outputs": [],
   "source": [
    "# 4. Cambia el tipo de una variable de float a string y muéstralo."
   ]
  },
  {
   "cell_type": "code",
   "execution_count": 18,
   "metadata": {},
   "outputs": [],
   "source": [
    "#5. Asigna un valor booleano a una variable y muestra su tipo."
   ]
  },
  {
   "cell_type": "markdown",
   "metadata": {},
   "source": [
    "## 3. Estructuras Condicionales"
   ]
  },
  {
   "cell_type": "markdown",
   "metadata": {},
   "source": [
    "Las estructuras condicionales permiten ejecutar bloques de código basados en condiciones. Las más comunes son if, elif, y else."
   ]
  },
  {
   "cell_type": "markdown",
   "metadata": {},
   "source": [
    "**Video de Referencia**\n",
    "- https://www.youtube.com/watch?v=-kFBwApYVtA"
   ]
  },
  {
   "cell_type": "markdown",
   "metadata": {},
   "source": [
    "### Ejemplos Resueltos:"
   ]
  },
  {
   "cell_type": "code",
   "execution_count": 21,
   "metadata": {},
   "outputs": [
    {
     "name": "stdout",
     "output_type": "stream",
     "text": [
      "x no es mayor que y\n"
     ]
    }
   ],
   "source": [
    "# 1. Comparar dos números:\n",
    "x = 10\n",
    "y = 20\n",
    "if x > y:\n",
    "    print(\"x es mayor que y\")\n",
    "else:\n",
    "    print(\"x no es mayor que y\")"
   ]
  },
  {
   "cell_type": "code",
   "execution_count": 22,
   "metadata": {},
   "outputs": [
    {
     "name": "stdout",
     "output_type": "stream",
     "text": [
      "El número es impar\n"
     ]
    }
   ],
   "source": [
    "# 2. Verificar si un número es par o impar:\n",
    "num = 15\n",
    "if num % 2 == 0:\n",
    "    print(\"El número es par\")\n",
    "else:\n",
    "    print(\"El número es impar\")"
   ]
  },
  {
   "cell_type": "markdown",
   "metadata": {},
   "source": [
    "### Ejercicios Propuestos:"
   ]
  },
  {
   "cell_type": "code",
   "execution_count": 28,
   "metadata": {},
   "outputs": [],
   "source": [
    "# 1. Escribe un programa que verifique si una persona es mayor de edad."
   ]
  },
  {
   "cell_type": "code",
   "execution_count": 29,
   "metadata": {},
   "outputs": [],
   "source": [
    "# 2. Crea un programa que diga si un número es positivo, negativo o cero."
   ]
  },
  {
   "cell_type": "code",
   "execution_count": 30,
   "metadata": {},
   "outputs": [],
   "source": [
    "# 3. Verifica si una palabra ingresada por el usuario contiene más de 5 letras."
   ]
  },
  {
   "cell_type": "code",
   "execution_count": 31,
   "metadata": {},
   "outputs": [],
   "source": [
    "# 4. Crea un programa que determine si un número es divisible por 3 y por 5."
   ]
  },
  {
   "cell_type": "code",
   "execution_count": null,
   "metadata": {},
   "outputs": [],
   "source": [
    "# 5. Utiliza elif para clasificar la calificación de un examen (A, B, C, D, F)."
   ]
  },
  {
   "cell_type": "markdown",
   "metadata": {},
   "source": [
    "## 4. Bucles (for, while)"
   ]
  },
  {
   "cell_type": "markdown",
   "metadata": {},
   "source": [
    "Los bucles permiten ejecutar un bloque de código repetidamente. for se usa para iterar sobre una secuencia, y while repite mientras una condición sea verdadera."
   ]
  },
  {
   "cell_type": "markdown",
   "metadata": {},
   "source": [
    "**Video de Referencia**\n",
    "- Desde el min (5:22) https://www.youtube.com/watch?v=eU5L7HtwSWM&list=PLJ7sTTLrIA6m2bGromPVNC52slexHVJfe&index=6"
   ]
  },
  {
   "cell_type": "markdown",
   "metadata": {},
   "source": [
    "### Ejemplos Resueltos:"
   ]
  },
  {
   "cell_type": "code",
   "execution_count": 33,
   "metadata": {},
   "outputs": [
    {
     "name": "stdout",
     "output_type": "stream",
     "text": [
      "1\n",
      "2\n",
      "3\n",
      "4\n",
      "5\n"
     ]
    }
   ],
   "source": [
    "# 1. Imprimir los números del 1 al 5:\n",
    "for i in range(1, 6):\n",
    "    print(i)"
   ]
  },
  {
   "cell_type": "code",
   "execution_count": 34,
   "metadata": {},
   "outputs": [
    {
     "name": "stdout",
     "output_type": "stream",
     "text": [
      "Cuenta: 1\n",
      "Cuenta: 2\n",
      "Cuenta: 3\n"
     ]
    }
   ],
   "source": [
    "# 2. Usar un bucle while para contar hasta 3:\n",
    "count = 1\n",
    "while count <= 3:\n",
    "    print(\"Cuenta:\", count)\n",
    "    count += 1"
   ]
  },
  {
   "cell_type": "markdown",
   "metadata": {},
   "source": [
    "### Ejercicios Propuestos:"
   ]
  },
  {
   "cell_type": "code",
   "execution_count": 35,
   "metadata": {},
   "outputs": [],
   "source": [
    "# 1. Imprime todos los números pares del 1 al 20."
   ]
  },
  {
   "cell_type": "code",
   "execution_count": 36,
   "metadata": {},
   "outputs": [],
   "source": [
    "# 2. Usa un bucle while para sumar los números del 1 al 10."
   ]
  },
  {
   "cell_type": "code",
   "execution_count": 37,
   "metadata": {},
   "outputs": [],
   "source": [
    "# 3. Crea un bucle for que imprima la tabla de multiplicar del 7."
   ]
  },
  {
   "cell_type": "code",
   "execution_count": 38,
   "metadata": {},
   "outputs": [],
   "source": [
    "# 4. Imprime los primeros 10 números de la serie de Fibonacci."
   ]
  },
  {
   "cell_type": "code",
   "execution_count": 39,
   "metadata": {},
   "outputs": [],
   "source": [
    "# 5. Usa un bucle while para contar de 10 a 1."
   ]
  },
  {
   "cell_type": "markdown",
   "metadata": {},
   "source": [
    "## 5. Funciones"
   ]
  },
  {
   "cell_type": "markdown",
   "metadata": {},
   "source": [
    "Las funciones son bloques de código reutilizables que se pueden definir y llamar cuando sea necesario. Permiten una mejor organización del código y fomentan la reutilización. En Python, las funciones se definen con la palabra clave def seguida del nombre de la función y paréntesis que pueden contener parámetros. Las funciones pueden devolver valores usando la palabra clave return."
   ]
  },
  {
   "cell_type": "markdown",
   "metadata": {},
   "source": [
    "**Video de Referencia**\n",
    "- Solo hasta el min (4:42) https://www.youtube.com/watch?v=eVdoWDVgCIY&list=PLJ7sTTLrIA6m2bGromPVNC52slexHVJfe&index=7"
   ]
  },
  {
   "cell_type": "markdown",
   "metadata": {},
   "source": [
    "### Ejemplos Resueltos:"
   ]
  },
  {
   "cell_type": "code",
   "execution_count": 40,
   "metadata": {},
   "outputs": [
    {
     "name": "stdout",
     "output_type": "stream",
     "text": [
      "7\n"
     ]
    }
   ],
   "source": [
    "# 1. Función que suma dos números:\n",
    "def suma(a, b):\n",
    "    return a + b\n",
    "\n",
    "print(suma(3, 4))"
   ]
  },
  {
   "cell_type": "code",
   "execution_count": 41,
   "metadata": {},
   "outputs": [
    {
     "name": "stdout",
     "output_type": "stream",
     "text": [
      "True\n"
     ]
    }
   ],
   "source": [
    "# 2. Función que verifica si un número es par:\n",
    "def es_par(n):\n",
    "    return n % 2 == 0\n",
    "\n",
    "print(es_par(10))"
   ]
  },
  {
   "cell_type": "markdown",
   "metadata": {},
   "source": [
    "### Ejercicios Propuestos:"
   ]
  },
  {
   "cell_type": "code",
   "execution_count": 42,
   "metadata": {},
   "outputs": [],
   "source": [
    "# 1. Crea una función que calcule el factorial de un número."
   ]
  },
  {
   "cell_type": "code",
   "execution_count": 43,
   "metadata": {},
   "outputs": [],
   "source": [
    "# 2. Escribe una función que determine si una palabra es un palíndromo."
   ]
  },
  {
   "cell_type": "code",
   "execution_count": 44,
   "metadata": {},
   "outputs": [],
   "source": [
    "# 3. Define una función que convierta grados Celsius a Fahrenheit."
   ]
  },
  {
   "cell_type": "code",
   "execution_count": 45,
   "metadata": {},
   "outputs": [],
   "source": [
    "# 4. Haz una función que tome un número y devuelva la suma de todos los números hasta ese número."
   ]
  },
  {
   "cell_type": "code",
   "execution_count": 46,
   "metadata": {},
   "outputs": [],
   "source": [
    "# 5. Implementa una función que devuelva el número mayor de una lista."
   ]
  },
  {
   "cell_type": "markdown",
   "metadata": {},
   "source": [
    "## 6. Listas"
   ]
  },
  {
   "cell_type": "markdown",
   "metadata": {},
   "source": [
    "Las listas son colecciones ordenadas y mutables que pueden contener elementos de diferentes tipos. Se definen con corchetes []."
   ]
  },
  {
   "cell_type": "markdown",
   "metadata": {},
   "source": [
    "**Video de Referencia**\n",
    "- https://www.youtube.com/watch?v=PogXFDqR770&t=297s"
   ]
  },
  {
   "cell_type": "markdown",
   "metadata": {},
   "source": [
    "### Ejemplos Resueltos:"
   ]
  },
  {
   "cell_type": "code",
   "execution_count": 47,
   "metadata": {},
   "outputs": [
    {
     "name": "stdout",
     "output_type": "stream",
     "text": [
      "[1, 2, 3, 4, 5]\n"
     ]
    }
   ],
   "source": [
    "# 1. Crear y modificar una lista:\n",
    "lista = [1, 2, 3, 4]\n",
    "lista.append(5)\n",
    "print(lista)"
   ]
  },
  {
   "cell_type": "code",
   "execution_count": 48,
   "metadata": {},
   "outputs": [
    {
     "name": "stdout",
     "output_type": "stream",
     "text": [
      "['a', 'z', 'c']\n"
     ]
    }
   ],
   "source": [
    "# 2. Acceder y cambiar elementos de una lista:\n",
    "lista = [\"a\", \"b\", \"c\"]\n",
    "lista[1] = \"z\"\n",
    "print(lista)"
   ]
  },
  {
   "cell_type": "code",
   "execution_count": null,
   "metadata": {},
   "outputs": [
    {
     "name": "stdout",
     "output_type": "stream",
     "text": [
      "Pera\n",
      "Uva\n",
      "Coco\n"
     ]
    }
   ],
   "source": [
    "# 3. Recorrer una lista con for e imprimir solo aquellos que tienen menos de 5 caracteres:\n",
    "frutas = ['Plátano', 'Pera', 'Manzana', 'Naranja', 'Durazno', 'Uva', 'Coco']\n",
    "for fruta in frutas:\n",
    "    if len(fruta) < 5:\n",
    "        print(fruta)"
   ]
  },
  {
   "cell_type": "markdown",
   "metadata": {},
   "source": [
    "### Ejercicios Propuestos:"
   ]
  },
  {
   "cell_type": "code",
   "execution_count": 72,
   "metadata": {},
   "outputs": [],
   "source": [
    "# 1. Recorre una lista con un bucle for y muestra cada elemento."
   ]
  },
  {
   "cell_type": "code",
   "execution_count": null,
   "metadata": {},
   "outputs": [],
   "source": [
    "# 2. Crea una lista con los números del 1 al 10 e imprime solo los pares."
   ]
  },
  {
   "cell_type": "code",
   "execution_count": null,
   "metadata": {},
   "outputs": [],
   "source": [
    "# 3. Dada una lista de palabras ['Carro', 'Avión', 'Barco', 'Moto', 'Scooter', 'Trailer'], imprime las que tienen más o igual de 5 letras."
   ]
  },
  {
   "cell_type": "code",
   "execution_count": null,
   "metadata": {},
   "outputs": [],
   "source": [
    "# 4. Haz una lista de nombres y ordena la lista alfabéticamente."
   ]
  },
  {
   "cell_type": "code",
   "execution_count": null,
   "metadata": {},
   "outputs": [],
   "source": [
    "# 5. Crea una lista de números y encuentra el valor máximo y mínimo."
   ]
  },
  {
   "cell_type": "markdown",
   "metadata": {},
   "source": [
    "## 7. Strings"
   ]
  },
  {
   "cell_type": "markdown",
   "metadata": {},
   "source": [
    "Las cadenas son secuencias de caracteres que se utilizan para representar texto en Python. Pueden manipularse usando una variedad de métodos y operadores, como concatenación (+), repetición (*), y técnicas de indexación y segmentación (slicing). Las cadenas también tienen métodos incorporados como .upper(), .lower(), .replace(), y .split() que permiten transformarlas de diferentes maneras."
   ]
  },
  {
   "cell_type": "markdown",
   "metadata": {},
   "source": [
    "**Video de Referencia**\n",
    "- https://www.youtube.com/watch?v=Pr-9wkSJDJk&t=261s"
   ]
  },
  {
   "cell_type": "markdown",
   "metadata": {},
   "source": [
    "### Ejemplos Resueltos:"
   ]
  },
  {
   "cell_type": "code",
   "execution_count": 54,
   "metadata": {},
   "outputs": [
    {
     "name": "stdout",
     "output_type": "stream",
     "text": [
      "nohtyP\n"
     ]
    }
   ],
   "source": [
    "# 1. Revertir una cadena:\n",
    "texto = \"Python\"\n",
    "print(texto[::-1])"
   ]
  },
  {
   "cell_type": "code",
   "execution_count": 55,
   "metadata": {},
   "outputs": [
    {
     "name": "stdout",
     "output_type": "stream",
     "text": [
      "HOLA MUNDO\n"
     ]
    }
   ],
   "source": [
    "# 2. Convertir a mayúsculas:\n",
    "saludo = \"hola mundo\"\n",
    "print(saludo.upper())"
   ]
  },
  {
   "cell_type": "markdown",
   "metadata": {},
   "source": [
    "### Ejercicios Propuestos:"
   ]
  },
  {
   "cell_type": "code",
   "execution_count": 56,
   "metadata": {},
   "outputs": [],
   "source": [
    "# 1. Verifica si una palabra es un palíndromo."
   ]
  },
  {
   "cell_type": "code",
   "execution_count": 57,
   "metadata": {},
   "outputs": [],
   "source": [
    "# 2. Reemplaza todas las vocales de una cadena por asteriscos."
   ]
  },
  {
   "cell_type": "code",
   "execution_count": 58,
   "metadata": {},
   "outputs": [],
   "source": [
    "# 3. Cuenta cuántas veces aparece una letra en una frase."
   ]
  },
  {
   "cell_type": "code",
   "execution_count": 59,
   "metadata": {},
   "outputs": [],
   "source": [
    "# 4. Divide una frase en palabras e imprímelas en líneas separadas."
   ]
  },
  {
   "cell_type": "code",
   "execution_count": 60,
   "metadata": {},
   "outputs": [],
   "source": [
    "# 5. Crea un programa que tome una frase y la devuelva con las palabras en orden inverso."
   ]
  },
  {
   "cell_type": "markdown",
   "metadata": {},
   "source": [
    "## 8. Diccionarios"
   ]
  },
  {
   "cell_type": "markdown",
   "metadata": {},
   "source": [
    "Los diccionarios son colecciones no ordenadas de pares clave-valor. Se utilizan para almacenar datos relacionados y se definen con llaves {}."
   ]
  },
  {
   "cell_type": "markdown",
   "metadata": {},
   "source": [
    "**Video de Referencia**\n",
    "- https://www.youtube.com/watch?v=2oQFv5tmfwM"
   ]
  },
  {
   "cell_type": "markdown",
   "metadata": {},
   "source": [
    "### Ejemplos Resueltos:"
   ]
  },
  {
   "cell_type": "code",
   "execution_count": 61,
   "metadata": {},
   "outputs": [
    {
     "name": "stdout",
     "output_type": "stream",
     "text": [
      "Juan\n"
     ]
    }
   ],
   "source": [
    "# 1. Crear y acceder a un diccionario:\n",
    "persona = {\"nombre\": \"Juan\", \"edad\": 25}\n",
    "print(persona[\"nombre\"])"
   ]
  },
  {
   "cell_type": "code",
   "execution_count": 62,
   "metadata": {},
   "outputs": [
    {
     "name": "stdout",
     "output_type": "stream",
     "text": [
      "{'nombre': 'Juan', 'edad': 25, 'ciudad': 'Lima'}\n"
     ]
    }
   ],
   "source": [
    "# 2. Agregar un nuevo par clave-valor:\n",
    "persona[\"ciudad\"] = \"Lima\"\n",
    "print(persona)"
   ]
  },
  {
   "cell_type": "markdown",
   "metadata": {},
   "source": [
    "### Ejercicios Propuestos:"
   ]
  },
  {
   "cell_type": "code",
   "execution_count": 63,
   "metadata": {},
   "outputs": [],
   "source": [
    "# 1. Crea un diccionario que almacene el nombre y la edad de tres personas."
   ]
  },
  {
   "cell_type": "code",
   "execution_count": 64,
   "metadata": {},
   "outputs": [],
   "source": [
    "# 2. Accede al valor de una clave en un diccionario anidado."
   ]
  },
  {
   "cell_type": "code",
   "execution_count": 65,
   "metadata": {},
   "outputs": [],
   "source": [
    "# 3. Haz un programa que sume los valores de un diccionario."
   ]
  },
  {
   "cell_type": "code",
   "execution_count": 66,
   "metadata": {},
   "outputs": [],
   "source": [
    "# 4. Verifica si una clave existe en un diccionario."
   ]
  },
  {
   "cell_type": "code",
   "execution_count": 67,
   "metadata": {},
   "outputs": [],
   "source": [
    "# 5. Cambia todas las claves de un diccionario a mayúsculas."
   ]
  },
  {
   "cell_type": "markdown",
   "metadata": {},
   "source": [
    "## 9. Manejo de Errores"
   ]
  },
  {
   "cell_type": "markdown",
   "metadata": {},
   "source": [
    "El manejo de errores permite que un programa continúe funcionando incluso si se encuentra un problema en tiempo de ejecución. En Python, esto se logra usando las estructuras try y except, que permiten capturar y manejar excepciones específicas o generales."
   ]
  },
  {
   "cell_type": "markdown",
   "metadata": {},
   "source": [
    "**Video de Referencia**\n",
    "- https://www.youtube.com/watch?v=Ffw7feC5Ptc"
   ]
  },
  {
   "cell_type": "markdown",
   "metadata": {},
   "source": [
    "### Ejemplos Resueltos:"
   ]
  },
  {
   "cell_type": "code",
   "execution_count": 68,
   "metadata": {},
   "outputs": [
    {
     "name": "stdout",
     "output_type": "stream",
     "text": [
      "Número ingresado: 10\n"
     ]
    }
   ],
   "source": [
    "# 1. Uso de try y except para manejar errores:\n",
    "try:\n",
    "    num = int(input(\"Ingresa un número: \"))\n",
    "    print(\"Número ingresado:\", num)\n",
    "except ValueError:\n",
    "    print(\"Error: No ingresaste un número válido.\")"
   ]
  },
  {
   "cell_type": "code",
   "execution_count": 69,
   "metadata": {},
   "outputs": [
    {
     "name": "stdout",
     "output_type": "stream",
     "text": [
      "Error: División por cero.\n"
     ]
    }
   ],
   "source": [
    "# 2. Manejo de errores múltiples:\n",
    "try:\n",
    "    resultado = 10 / 0\n",
    "except ZeroDivisionError:\n",
    "    print(\"Error: División por cero.\")\n",
    "except Exception as e:\n",
    "    print(\"Otro error ocurrió:\", e)"
   ]
  },
  {
   "cell_type": "markdown",
   "metadata": {},
   "source": [
    "### Ejercicios Propuestos:"
   ]
  },
  {
   "cell_type": "code",
   "execution_count": 70,
   "metadata": {},
   "outputs": [],
   "source": [
    "# 1. Crea un programa que maneje la entrada de un número y muestre un mensaje si el valor ingresado no es un número."
   ]
  },
  {
   "cell_type": "code",
   "execution_count": 74,
   "metadata": {},
   "outputs": [],
   "source": [
    "# 2. Crea un código que convierta una cadena a un entero y maneje la excepción en caso de que no se pueda convertir."
   ]
  }
 ],
 "metadata": {
  "kernelspec": {
   "display_name": "Python 3",
   "language": "python",
   "name": "python3"
  },
  "language_info": {
   "codemirror_mode": {
    "name": "ipython",
    "version": 3
   },
   "file_extension": ".py",
   "mimetype": "text/x-python",
   "name": "python",
   "nbconvert_exporter": "python",
   "pygments_lexer": "ipython3",
   "version": "3.13.0"
  }
 },
 "nbformat": 4,
 "nbformat_minor": 2
}
